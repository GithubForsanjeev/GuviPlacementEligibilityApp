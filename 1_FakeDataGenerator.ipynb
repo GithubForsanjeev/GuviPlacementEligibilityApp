{
 "cells": [
  {
   "cell_type": "markdown",
   "id": "40bd5e83-b712-4330-b0d4-1ce737263ddb",
   "metadata": {},
   "source": [
    "#### GENERATE THE FAKE DATA SET"
   ]
  },
  {
   "cell_type": "code",
   "execution_count": 4,
   "id": "896768c5-d84b-4763-9e37-2e672aa61680",
   "metadata": {},
   "outputs": [
    {
     "name": "stdout",
     "output_type": "stream",
     "text": [
      "Collecting faker\n",
      "  Downloading faker-37.4.2-py3-none-any.whl.metadata (15 kB)\n",
      "Requirement already satisfied: tzdata in c:\\users\\sanjeev\\anaconda3\\lib\\site-packages (from faker) (2025.2)\n",
      "Downloading faker-37.4.2-py3-none-any.whl (1.9 MB)\n",
      "   ---------------------------------------- 0.0/1.9 MB ? eta -:--:--\n",
      "   ---------------------------------------- 1.9/1.9 MB 15.8 MB/s eta 0:00:00\n",
      "Installing collected packages: faker\n",
      "Successfully installed faker-37.4.2\n"
     ]
    }
   ],
   "source": [
    "!pip install faker"
   ]
  },
  {
   "cell_type": "code",
   "execution_count": 11,
   "id": "19406d7e-2af9-4e96-bd18-62ede5e55435",
   "metadata": {},
   "outputs": [],
   "source": [
    "import pandas as pd\n",
    "import numpy as np \n",
    "import random \n",
    "from faker import Faker"
   ]
  },
  {
   "cell_type": "markdown",
   "id": "9cad1fd8-6257-4d68-8101-6c5ec1944dc4",
   "metadata": {},
   "source": [
    "#### STUDENT TABLE"
   ]
  },
  {
   "cell_type": "code",
   "execution_count": 14,
   "id": "8a2d0dad-ebf2-46aa-a4a3-b9ce415f63a3",
   "metadata": {},
   "outputs": [],
   "source": [
    "fake = Faker(\"en_IN\")\n",
    "\n",
    "def create_student_table(total_records): \n",
    "    students_table = []\n",
    "\n",
    "    for _ in range(total_records):\n",
    "        student = {}\n",
    "        student[\"student_id\"] = fake.unique.random_int(min=1, max=500)\n",
    "        student['name'] = fake.name()\n",
    "        \n",
    "        student['age'] = fake.random_int(min=18, max=25)\n",
    "        # For Gender we have to use different conditions \n",
    "        gender = random.choice([\"Male\", \"Female\"])\n",
    "        student[\"gender\"] = gender\n",
    "        \n",
    "        if gender == \"Male\":\n",
    "            first_name = fake.first_name_male()\n",
    "        else:\n",
    "            first_name = fake.first_name_female()\n",
    "                     \n",
    "        last_name = fake.last_name()\n",
    "\n",
    "        #Format the name with first and last name\n",
    "        student[\"name\"] = f\"{first_name} {last_name}\"\n",
    "        \n",
    "        student['email'] = fake.email()\n",
    "        student['phone_num'] = fake.phone_number()\n",
    "        student['city'] = fake.city()\n",
    "\n",
    "        student['course_batch'] = fake.random_element(elements=list(['AIML']))\n",
    "\n",
    "        # Randomly choose enrollment year\n",
    "        enrollment_year = fake.random_element(elements=[2024])\n",
    "        student['enrollment_year'] = enrollment_year\n",
    "        student['graduation_year'] = enrollment_year + 1\n",
    "\n",
    "        students_table.append(student)\n",
    "\n",
    "    # Convert to DataFrame\n",
    "    df = pd.DataFrame(students_table)\n",
    "\n",
    "    # Sort by student_id in ascending order\n",
    "    df = df.sort_values(by='student_id').reset_index(drop=True)\n",
    "\n",
    "    return df\n"
   ]
  },
  {
   "cell_type": "code",
   "execution_count": 15,
   "id": "188ba08f-7d38-4231-8ff1-64e3eef1a4c4",
   "metadata": {},
   "outputs": [],
   "source": [
    "#Generate Student data\n",
    "df_students = create_student_table(500)\n",
    "df_students.to_csv(\"Student_Table.csv\", index = False)"
   ]
  },
  {
   "cell_type": "markdown",
   "id": "65ccb4ab-4841-450f-a559-c38a33376a40",
   "metadata": {},
   "source": [
    "#### PROGRAMMING TABLE"
   ]
  },
  {
   "cell_type": "code",
   "execution_count": 23,
   "id": "0ecfec55-0521-447d-b973-9ad3b97f1368",
   "metadata": {},
   "outputs": [],
   "source": [
    "fake = Faker(\"en_IN\")\n",
    "language = ['Python','SQL']\n",
    "\n",
    "def create_programming_table(total_records):\n",
    "    programming_table = []\n",
    "    \n",
    "    for _ in range(total_records):\n",
    "        program = {}\n",
    "        program['programming_id'] = fake.unique.random_int(min=1000, max=2000)\n",
    "        program['student_id'] =  fake.unique.random_int(min=1, max=500)\n",
    "        program['language'] = ','.join(random.sample(language, 2,))\n",
    "        program['problems_solved'] = random.randint(40,80)\n",
    "        program['assessments_completed'] =  random.randint(2,10)\n",
    "        program['mini_projects'] = random.randint(1,10)\n",
    "        program['certifications_earned'] =  random.randint(1,10)\n",
    "        program['latest_project_score'] =  random.randint(30,100)\n",
    "        \n",
    "        programming_table.append(program)\n",
    "        \n",
    "        \n",
    "    df= pd.DataFrame(programming_table)\n",
    "    df = df.sort_values(by='student_id').reset_index(drop=True)\n",
    "    return df\n"
   ]
  },
  {
   "cell_type": "code",
   "execution_count": 24,
   "id": "137d3316-b966-4010-9af4-7e84ce317eff",
   "metadata": {},
   "outputs": [],
   "source": [
    "#Generate Programming data for each student\n",
    "df_programming = create_programming_table(500)\n",
    "df_programming.to_csv(\"Programming_Table.csv\", index = False)"
   ]
  },
  {
   "cell_type": "markdown",
   "id": "e52b1d92-3b17-4c9a-8c11-50d8fd5a0160",
   "metadata": {},
   "source": [
    "#### SOFT SKILLS TABLE"
   ]
  },
  {
   "cell_type": "code",
   "execution_count": 29,
   "id": "3e1cf9bb-edac-4105-a814-e050de748484",
   "metadata": {},
   "outputs": [],
   "source": [
    "fake = Faker(\"en_IN\")\n",
    "def create_softskills_table(total_records):\n",
    "    soft_skills_table = []\n",
    "    for _ in range(total_records):\n",
    "        skills = {}\n",
    "        skills['soft_skill_id'] = fake.unique.random_int(min=2000, max=3000)\n",
    "        skills['student_id'] = fake.unique.random_int(min=1, max=500)\n",
    "        skills['communication'] = random.randint(30,100)\n",
    "        skills['teamwork'] = random.randint(30,100)\n",
    "        skills['presentation'] = random.randint(30,100)\n",
    "        skills['leadership'] = random.randint(30,100)\n",
    "        skills['critical_thinking'] = random.randint(30,100)\n",
    "        skills['interpersonal_skills'] = random.randint(30,100)\n",
    "        \n",
    "        soft_skills_table.append(skills)\n",
    "        \n",
    "    df = pd.DataFrame(soft_skills_table)\n",
    "    df = df.sort_values(by='student_id').reset_index(drop=True)\n",
    "    return df\n",
    "        "
   ]
  },
  {
   "cell_type": "code",
   "execution_count": 30,
   "id": "f897f01a-7960-4731-870b-4086d059c981",
   "metadata": {},
   "outputs": [],
   "source": [
    "df_softskills = create_softskills_table(500)\n",
    "df_softskills.to_csv(\"Softskills_Table.csv\", index = False)"
   ]
  },
  {
   "cell_type": "markdown",
   "id": "5bfc3e59-9c00-4a84-9148-05195bd66719",
   "metadata": {},
   "source": [
    "#### PLACEMENT TABLE"
   ]
  },
  {
   "cell_type": "code",
   "execution_count": 31,
   "id": "281b5b96-77b7-42e5-bd2e-c8b355f40e71",
   "metadata": {},
   "outputs": [],
   "source": [
    "fake = Faker(\"en_IN\")\n",
    "\n",
    "def create_placement_table(total_records):\n",
    "    placement_table = []\n",
    "    \n",
    "    for _ in range(total_records):\n",
    "        placement = {}\n",
    "        placement['placement_id'] = fake.unique.random_int(min=3000, max=4000)\n",
    "        placement['student_id'] = fake.unique.random_int(min=1, max=500)\n",
    "        \n",
    "        mock_score = random.randint(40, 100)\n",
    "        placement['mock_interview_score'] = mock_score\n",
    "        \n",
    "        placement['internships_completed'] = random.randint(1, 3)\n",
    "        \n",
    "        # Use mock score to check status\n",
    "        if mock_score >= 60:\n",
    "            placement_status = \"Ready\"\n",
    "        else:\n",
    "            placement_status = \"Not Ready\"\n",
    "        placement['placement_status'] = placement_status\n",
    "\n",
    "        if placement_status == \"Ready\" and random.random() > 0.3:\n",
    "            placement['company_name'] = fake.company()\n",
    "            placement['placement_package'] = random.randint(50000, 300000)\n",
    "            placement['interview_rounds_cleared'] = random.randint(3, 7)\n",
    "            placement['placement_date'] = fake.date_this_month()\n",
    "        else:\n",
    "            placement['company_name'] = None\n",
    "            placement['placement_package'] = 0\n",
    "            placement['interview_rounds_cleared'] = 0\n",
    "            placement['placement_date'] = None\n",
    "\n",
    "        placement_table.append(placement)\n",
    "\n",
    "    df = pd.DataFrame(placement_table)\n",
    "    df = df.sort_values(by='student_id').reset_index(drop=True)\n",
    "    \n",
    "    return df\n"
   ]
  },
  {
   "cell_type": "code",
   "execution_count": 32,
   "id": "bef56656-df42-498c-83a9-02ee2fc2c84e",
   "metadata": {},
   "outputs": [],
   "source": [
    "df_placement = create_placement_table(500)\n",
    "df_placement.to_csv(\"Placement_Table.csv\", index = False)"
   ]
  },
  {
   "cell_type": "code",
   "execution_count": null,
   "id": "89ed5b5c-6c0a-4c25-be43-5e5a0291c603",
   "metadata": {},
   "outputs": [],
   "source": []
  }
 ],
 "metadata": {
  "kernelspec": {
   "display_name": "Python 3 (ipykernel)",
   "language": "python",
   "name": "python3"
  },
  "language_info": {
   "codemirror_mode": {
    "name": "ipython",
    "version": 3
   },
   "file_extension": ".py",
   "mimetype": "text/x-python",
   "name": "python",
   "nbconvert_exporter": "python",
   "pygments_lexer": "ipython3",
   "version": "3.13.5"
  }
 },
 "nbformat": 4,
 "nbformat_minor": 5
}
